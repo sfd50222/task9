{
  "cells": [
    {
      "cell_type": "markdown",
      "metadata": {
        "id": "GvJbBW_oDOwC"
      },
      "source": [
        "# Week 4: Handling Complex Images - Happy or Sad Dataset\n",
        "\n",
        "In this assignment you will be using the happy or sad dataset, which contains 80 images of emoji-like faces, 40 happy and 40 sad.\n",
        "\n",
        "Create a convolutional neural network that trains to 99.9% accuracy on these images,  which cancels training upon hitting this training accuracy threshold."
      ]
    },
    {
      "cell_type": "code",
      "execution_count": 1,
      "metadata": {
        "deletable": false,
        "editable": false,
        "colab": {
          "base_uri": "https://localhost:8080/"
        },
        "id": "FSH6t-zq27JQ",
        "outputId": "323fb131-4e93-462c-80a2-076893aed082"
      },
      "outputs": [
        {
          "output_type": "stream",
          "name": "stdout",
          "text": [
            "python3: can't open file '/content/add_metadata.py': [Errno 2] No such file or directory\n"
          ]
        }
      ],
      "source": [
        "# IMPORTANT: This will check your notebook's metadata for grading.\n",
        "# Please do not continue the lab unless the output of this cell tells you to proceed.\n",
        "!python add_metadata.py --filename C1W4_Assignment.ipynb"
      ]
    },
    {
      "cell_type": "markdown",
      "metadata": {
        "id": "JZ_esqGU27JR"
      },
      "source": [
        "_**NOTE:** To prevent errors from the autograder, you are not allowed to edit or delete non-graded cells in this notebook . Please only put your solutions in between the `### START CODE HERE` and `### END CODE HERE` code comments, and also refrain from adding any new cells. **Once you have passed this assignment** and want to experiment with any of the non-graded code, you may follow the instructions at the bottom of this notebook._"
      ]
    },
    {
      "cell_type": "code",
      "execution_count": 2,
      "metadata": {
        "deletable": false,
        "editable": false,
        "id": "3NFuMFYXtwsT",
        "tags": [
          "graded"
        ]
      },
      "outputs": [],
      "source": [
        "# grader-required-cell\n",
        "\n",
        "import matplotlib.pyplot as plt\n",
        "import tensorflow as tf\n",
        "import numpy as np\n",
        "import os"
      ]
    },
    {
      "cell_type": "code",
      "source": [
        "# grader-required-cell\n",
        "\n",
        "from tensorflow.keras.preprocessing.image import load_img\n",
        "\n",
        "base_dir = \"./data/\"\n",
        "happy_dir = os.path.join(base_dir, \"happy/\")\n",
        "sad_dir = os.path.join(base_dir, \"sad/\")\n",
        "\n",
        "# Check if directories exist\n",
        "if os.path.exists(happy_dir) and os.path.exists(sad_dir):\n",
        "    print(\"Sample happy image:\")\n",
        "    happy_images = os.listdir(happy_dir)\n",
        "    if happy_images:\n",
        "        plt.imshow(load_img(f\"{os.path.join(happy_dir, happy_images[0])}\"))\n",
        "        plt.show()\n",
        "    else:\n",
        "        print(\"No images found in the happy directory.\")\n",
        "\n",
        "    print(\"\\nSample sad image:\")\n",
        "    sad_images = os.listdir(sad_dir)\n",
        "    if sad_images:\n",
        "        plt.imshow(load_img(f\"{os.path.join(sad_dir, sad_images[0])}\"))\n",
        "        plt.show()\n",
        "    else:\n",
        "        print(\"No images found in the sad directory.\")\n",
        "else:\n",
        "    print(\"One or both of the directories do not exist.\")"
      ],
      "metadata": {
        "id": "ioUV5-wn3UMz",
        "outputId": "0d6fbfca-2d7e-4984-baf9-3e24aac194bf",
        "colab": {
          "base_uri": "https://localhost:8080/"
        }
      },
      "execution_count": 3,
      "outputs": [
        {
          "output_type": "stream",
          "name": "stdout",
          "text": [
            "One or both of the directories do not exist.\n"
          ]
        }
      ]
    },
    {
      "cell_type": "markdown",
      "metadata": {
        "id": "umNiYDNv27JR"
      },
      "source": [
        "## Load and explore the data\n",
        "\n",
        "Begin by taking a look at some images of the dataset.\n",
        "\n",
        "Notice that all the images are contained within the `./data/` directory.\n",
        "\n",
        "This directory contains two subdirectories `happy/` and `sad/` and each image is saved under the subdirectory related to the class it belongs to."
      ]
    },
    {
      "cell_type": "code",
      "execution_count": 4,
      "metadata": {
        "colab": {
          "base_uri": "https://localhost:8080/"
        },
        "deletable": false,
        "editable": false,
        "id": "uaWTfp5Ox9E-",
        "outputId": "76f4d469-4129-4a93-dd28-8b86c1f62a5f",
        "tags": [
          "graded"
        ]
      },
      "outputs": [
        {
          "output_type": "stream",
          "name": "stdout",
          "text": [
            "The happy directory does not exist.\n"
          ]
        }
      ],
      "source": [
        "# grader-required-cell\n",
        "\n",
        "from tensorflow.keras.preprocessing.image import img_to_array\n",
        "\n",
        "# Load the first example of a happy face if the directory exists and contains images\n",
        "if os.path.exists(happy_dir):\n",
        "    happy_images = os.listdir(happy_dir)\n",
        "    if happy_images:\n",
        "        sample_image = load_img(f\"{os.path.join(happy_dir, happy_images[0])}\")\n",
        "\n",
        "        # Convert the image into its numpy array representation\n",
        "        sample_array = img_to_array(sample_image)\n",
        "\n",
        "        print(f\"Each image has shape: {sample_array.shape}\")\n",
        "        print(f\"The maximum pixel value used is: {np.max(sample_array)}\")\n",
        "    else:\n",
        "        print(\"No images found in the happy directory.\")\n",
        "else:\n",
        "    print(\"The happy directory does not exist.\")"
      ]
    },
    {
      "cell_type": "markdown",
      "metadata": {
        "id": "2exnbR5m27JS"
      },
      "source": [
        "It is cool to be able to see examples of the images to better understand the problem-space you are dealing with.\n",
        "\n",
        "However there is still some relevant information that is missing such as the resolution of the image (although matplotlib renders the images in a grid providing a good idea of these values) and the maximum pixel value (this is important for normalizing these values). For this you can use Keras as shown in the next cell:"
      ]
    },
    {
      "cell_type": "code",
      "execution_count": 5,
      "metadata": {
        "deletable": false,
        "editable": false,
        "tags": [
          "graded"
        ],
        "id": "uIlD62kJ27JS"
      },
      "outputs": [],
      "source": [
        "# grader-required-cell\n",
        "\n",
        "class myCallback(tf.keras.callbacks.Callback):\n",
        "    def on_epoch_end(self, epoch, logs={}):\n",
        "        if logs.get('accuracy') is not None and logs.get('accuracy') > 0.999:\n",
        "            print(\"\\nReached 99.9% accuracy so cancelling training!\")\n",
        "            self.model.stop_training = True"
      ]
    },
    {
      "cell_type": "markdown",
      "metadata": {
        "id": "aVhjnsYY27JS"
      },
      "source": [
        "Looks like the images have a resolution of 150x150. **This is very important because this will be the input size of the first layer in your network.**\n",
        "\n",
        "**The last dimension refers to each one of the 3 RGB channels that are used to represent colored images.**"
      ]
    },
    {
      "cell_type": "markdown",
      "metadata": {
        "id": "ciyNctVq27JS"
      },
      "source": [
        "## Defining the callback\n",
        "\n",
        "Since you already have coded the callback responsible for stopping training (once a desired level of accuracy is reached) in the previous two assignments this time it is already provided so you can focus on the other steps:"
      ]
    },
    {
      "cell_type": "code",
      "execution_count": 6,
      "metadata": {
        "deletable": false,
        "editable": false,
        "id": "X0UOFLauzIW4",
        "tags": [
          "graded"
        ]
      },
      "outputs": [],
      "source": [
        "# grader-required-cell\n",
        "\n",
        "from tensorflow.keras.preprocessing.image import ImageDataGenerator\n",
        "\n",
        "# GRADED FUNCTION: image_generator\n",
        "def image_generator():\n",
        "    ### START CODE HERE\n",
        "\n",
        "    # Instantiate the ImageDataGenerator class.\n",
        "    # Remember to set the rescale argument.\n",
        "    train_datagen = ImageDataGenerator(rescale=1./255)\n",
        "\n",
        "    # Specify the method to load images from a directory and pass in the appropriate arguments:\n",
        "    # - directory: should be a relative path to the directory containing the data\n",
        "    # - target_size: set this equal to the resolution of each image (excluding the color dimension)\n",
        "    # - batch_size: number of images the generator yields when asked for a next batch. Set this to 10.\n",
        "    # - class_mode: How the labels are represented. Should be one of \"binary\", \"categorical\" or \"sparse\".\n",
        "    #               Pick the one that better suits here given that the labels are going to be 1D binary labels.\n",
        "    train_generator = train_datagen.flow_from_directory(directory=base_dir,\n",
        "                                                        target_size=(256, 256),\n",
        "                                                        batch_size=10,\n",
        "                                                        class_mode='binary')\n",
        "    ### END CODE HERE\n",
        "\n",
        "    return train_generator"
      ]
    },
    {
      "cell_type": "markdown",
      "metadata": {
        "id": "S4SIMHBF27JT"
      },
      "source": [
        "A quick note on callbacks:\n",
        "\n",
        "So far you have used only the `on_epoch_end` callback but there are many more. For example you might want to check out the [EarlyStopping](https://www.tensorflow.org/api_docs/python/tf/keras/callbacks/EarlyStopping) callback, which allows you to save the best weights for your model."
      ]
    },
    {
      "cell_type": "markdown",
      "metadata": {
        "id": "-c1Z4zYB27JT"
      },
      "source": [
        "## Pre-processing the data\n",
        "\n",
        "Keras provides great support for preprocessing image data. A lot can be accomplished by using the `ImageDataGenerator` class. Be sure to check out the [docs](https://www.tensorflow.org/api_docs/python/tf/keras/preprocessing/image/ImageDataGenerator) if you get stuck in the next exercise. In particular you might want to pay attention to the `rescale` argument when instantiating the `ImageDataGenerator` and to the [`flow_from_directory`](https://www.tensorflow.org/api_docs/python/tf/keras/preprocessing/image/ImageDataGenerator#flow_from_directory) method."
      ]
    },
    {
      "cell_type": "code",
      "execution_count": 7,
      "metadata": {
        "cellView": "code",
        "deletable": false,
        "id": "rrGO8ObGzqht",
        "tags": [
          "graded"
        ]
      },
      "outputs": [],
      "source": [
        "# grader-required-cell\n",
        "\n",
        "from tensorflow.keras.preprocessing.image import ImageDataGenerator\n",
        "\n",
        "# GRADED FUNCTION: image_generator\n",
        "def image_generator():\n",
        "    # Check if the base directory exists\n",
        "    if not os.path.exists(base_dir):\n",
        "        print(\"Base directory does not exist.\")\n",
        "        return None\n",
        "\n",
        "    ### START CODE HERE\n",
        "\n",
        "    # Instantiate the ImageDataGenerator class.\n",
        "    # Remember to set the rescale argument.\n",
        "    train_datagen = ImageDataGenerator(rescale=1./255)\n",
        "\n",
        "    # Specify the method to load images from a directory and pass in the appropriate arguments:\n",
        "    # - directory: should be a relative path to the directory containing the data\n",
        "    # - target_size: set this equal to the resolution of each image (excluding the color dimension)\n",
        "    # - batch_size: number of images the generator yields when asked for a next batch. Set this to 10.\n",
        "    # - class_mode: How the labels are represented. Should be one of \"binary\", \"categorical\" or \"sparse\".\n",
        "    #               Pick the one that better suits here given that the labels are going to be 1D binary labels.\n",
        "    train_generator = train_datagen.flow_from_directory(directory=base_dir,\n",
        "                                                        target_size=(256, 256),\n",
        "                                                        batch_size=10,\n",
        "                                                        class_mode='binary')\n",
        "    ### END CODE HERE\n",
        "\n",
        "    return train_generator"
      ]
    },
    {
      "cell_type": "code",
      "source": [
        "# grader-required-cell\n",
        "\n",
        "from tensorflow.keras import optimizers, losses\n",
        "\n",
        "# GRADED FUNCTION: train_happy_sad_model\n",
        "def train_happy_sad_model(train_generator):\n",
        "\n",
        "    # Instantiate the callback\n",
        "    callbacks = myCallback()\n",
        "\n",
        "    ### START CODE HERE\n",
        "\n",
        "    # Define the model\n",
        "    model = tf.keras.models.Sequential([\n",
        "        tf.keras.layers.Conv2D(16, (3,3), activation='relu', input_shape=(256, 256, 3)),\n",
        "        tf.keras.layers.MaxPooling2D(2, 2),\n",
        "        tf.keras.layers.Conv2D(32, (3,3), activation='relu'),\n",
        "        tf.keras.layers.MaxPooling2D(2,2),\n",
        "        tf.keras.layers.Flatten(),\n",
        "        tf.keras.layers.Dense(512, activation='relu'),\n",
        "        tf.keras.layers.Dense(1, activation='sigmoid')\n",
        "    ])\n",
        "\n",
        "    # Compile the model\n",
        "    # Select a loss function compatible with the last layer of your network\n",
        "    model.compile(loss='binary_crossentropy',\n",
        "                  optimizer='adam',\n",
        "                  metrics=['accuracy'])\n",
        "\n",
        "\n",
        "    # Train the model\n",
        "    # Your model should achieve the desired accuracy in less than 15 epochs.\n",
        "    # You can hardcode up to 20 epochs in the function below but the callback should trigger before 15.\n",
        "    history = model.fit(train_generator,\n",
        "                        epochs=15,\n",
        "                        callbacks=[callbacks]\n",
        "                       )\n",
        "\n",
        "    ### END CODE HERE\n",
        "    return history"
      ],
      "metadata": {
        "id": "95tOcwjl4iU3"
      },
      "execution_count": 8,
      "outputs": []
    },
    {
      "cell_type": "code",
      "source": [
        "# grader-required-cell\n",
        "\n",
        "# Save your generator in a variable\n",
        "gen = image_generator()"
      ],
      "metadata": {
        "colab": {
          "base_uri": "https://localhost:8080/"
        },
        "id": "9MyRVnVD4t1e",
        "outputId": "b9771227-3ffa-432e-9934-e39e70a184fb"
      },
      "execution_count": 9,
      "outputs": [
        {
          "output_type": "stream",
          "name": "stdout",
          "text": [
            "Base directory does not exist.\n"
          ]
        }
      ]
    },
    {
      "cell_type": "code",
      "source": [
        "# grader-required-cell\n",
        "\n",
        "from tensorflow.keras.preprocessing.image import ImageDataGenerator\n",
        "\n",
        "# GRADED FUNCTION: image_generator\n",
        "def image_generator():\n",
        "    # Check if the base directory exists\n",
        "    if not os.path.exists(base_dir):\n",
        "        print(\"Base directory does not exist.\")\n",
        "        return None\n",
        "\n",
        "    # Instantiate the ImageDataGenerator class.\n",
        "    # Remember to set the rescale argument.\n",
        "    train_datagen = ImageDataGenerator(rescale=1./255)\n",
        "\n",
        "    # Specify the method to load images from a directory and pass in the appropriate arguments:\n",
        "    # - directory: should be a relative path to the directory containing the data\n",
        "    # - target_size: set this equal to the resolution of each image (excluding the color dimension)\n",
        "    # - batch_size: number of images the generator yields when asked for a next batch. Set this to 10.\n",
        "    # - class_mode: How the labels are represented. Should be one of \"binary\", \"categorical\" or \"sparse\".\n",
        "    #               Pick the one that better suits here given that the labels are going to be 1D binary labels.\n",
        "    train_generator = train_datagen.flow_from_directory(directory=base_dir,\n",
        "                                                        target_size=(256, 256),\n",
        "                                                        batch_size=10,\n",
        "                                                        class_mode='binary')\n",
        "\n",
        "    return train_generator"
      ],
      "metadata": {
        "id": "UOCq8-6e4v2w"
      },
      "execution_count": 10,
      "outputs": []
    },
    {
      "cell_type": "code",
      "source": [
        "# Train the model and store its history\n",
        "gen = image_generator()\n",
        "\n",
        "if gen is not None:\n",
        "    hist = train_happy_sad_model(gen)\n",
        "\n",
        "    # Check if hist is defined and not None\n",
        "    if hist is not None:\n",
        "        if not \"accuracy\" in hist.model.metrics_names:\n",
        "            print(\"Use 'accuracy' as metric when compiling your model.\")\n",
        "        else:\n",
        "            print(\"The metric was correctly defined.\")\n",
        "    else:\n",
        "        print(\"No training history available. Make sure the model is trained and hist is defined.\")\n",
        "else:\n",
        "    print(\"No data generator available. Make sure the data generator is correctly generated.\")"
      ],
      "metadata": {
        "colab": {
          "base_uri": "https://localhost:8080/"
        },
        "id": "fHkhvp2W4yjN",
        "outputId": "c9d42bce-27b9-4e43-dd44-943b167956d6"
      },
      "execution_count": 11,
      "outputs": [
        {
          "output_type": "stream",
          "name": "stdout",
          "text": [
            "Base directory does not exist.\n",
            "No data generator available. Make sure the data generator is correctly generated.\n"
          ]
        }
      ]
    },
    {
      "cell_type": "markdown",
      "metadata": {
        "id": "6fHepLur27JT"
      },
      "source": [
        "**Expected Output:**\n",
        "```\n",
        "Found 80 images belonging to 2 classes.\n",
        "```"
      ]
    },
    {
      "cell_type": "markdown",
      "metadata": {
        "id": "Giwd3NYB27JT"
      },
      "source": [
        "## Creating and training your model\n",
        "\n",
        "Finally, complete the `train_happy_sad_model` function below. This function should return your  neural network.\n",
        "\n",
        "**Your model should achieve an accuracy of 99.9% or more before 15 epochs to pass this assignment.**\n",
        "\n",
        "**Hints:**\n",
        "- You can try any architecture for the network but keep in mind that the model will work best with 3 convolutional layers.\n",
        "\n",
        "\n",
        "- In case you need extra help you can check out some tips at the end of this notebook."
      ]
    },
    {
      "cell_type": "code",
      "execution_count": 12,
      "metadata": {
        "deletable": false,
        "id": "eUcNTpra1FK0",
        "tags": [
          "graded"
        ],
        "colab": {
          "base_uri": "https://localhost:8080/"
        },
        "outputId": "1833411c-9d94-44f5-9576-69c149f3b47e"
      },
      "outputs": [
        {
          "output_type": "stream",
          "name": "stdout",
          "text": [
            "\n",
            "Some helpful tips in case you are stuck:\n",
            "\n",
            "    - A good first layer would be a Conv2D layer with an input shape that matches \n",
            "    that of every image in the training set (including the color dimension)\n",
            "    \n",
            "    - The model will work best with 3 convolutional layers\n",
            "    \n",
            "    - There should be a Flatten layer in between convolutional and dense layers\n",
            "    \n",
            "    - The final layer should be a Dense layer with the number of units and \n",
            "    activation function that supports binary classification.\n",
            "\n"
          ]
        }
      ],
      "source": [
        "import base64\n",
        "\n",
        "encoded_answer = \"ClNvbWUgaGVscGZ1bCB0aXBzIGluIGNhc2UgeW91IGFyZSBzdHVjazoKCiAgICAtIEEgZ29vZCBmaXJzdCBsYXllciB3b3VsZCBiZSBhIENvbnYyRCBsYXllciB3aXRoIGFuIGlucHV0IHNoYXBlIHRoYXQgbWF0Y2hlcyAKICAgIHRoYXQgb2YgZXZlcnkgaW1hZ2UgaW4gdGhlIHRyYWluaW5nIHNldCAoaW5jbHVkaW5nIHRoZSBjb2xvciBkaW1lbnNpb24pCiAgICAKICAgIC0gVGhlIG1vZGVsIHdpbGwgd29yayBiZXN0IHdpdGggMyBjb252b2x1dGlvbmFsIGxheWVycwogICAgCiAgICAtIFRoZXJlIHNob3VsZCBiZSBhIEZsYXR0ZW4gbGF5ZXIgaW4gYmV0d2VlbiBjb252b2x1dGlvbmFsIGFuZCBkZW5zZSBsYXllcnMKICAgIAogICAgLSBUaGUgZmluYWwgbGF5ZXIgc2hvdWxkIGJlIGEgRGVuc2UgbGF5ZXIgd2l0aCB0aGUgbnVtYmVyIG9mIHVuaXRzIGFuZCAKICAgIGFjdGl2YXRpb24gZnVuY3Rpb24gdGhhdCBzdXBwb3J0cyBiaW5hcnkgY2xhc3NpZmljYXRpb24uCg==\"\n",
        "encoded_answer = encoded_answer.encode('ascii')\n",
        "answer = base64.b64decode(encoded_answer)\n",
        "answer = answer.decode('ascii')\n",
        "\n",
        "print(answer)"
      ]
    },
    {
      "cell_type": "markdown",
      "metadata": {
        "id": "nxeobPVP27JT"
      },
      "source": [
        "If you see the message that was defined in the callback printed out after less than 15 epochs it means your callback worked as expected and training was successful. You can also double check by running the following cell:"
      ]
    },
    {
      "cell_type": "markdown",
      "metadata": {
        "id": "HjviOjTK27JU"
      },
      "source": [
        "If your callback didn't stop training, one cause might be that you compiled your model using a metric other than `accuracy` (such as `acc`). Make sure you set the metric to `accuracy`. You can check by running the following cell:"
      ]
    },
    {
      "cell_type": "markdown",
      "metadata": {
        "id": "e6dnI9V427JU"
      },
      "source": [
        "**Congratulations on finishing the last assignment of this course!**\n",
        "\n",
        "You have successfully implemented a CNN to assist you in the classification task for complex images. Nice job!\n",
        "\n",
        "**Keep it up!**"
      ]
    },
    {
      "cell_type": "markdown",
      "metadata": {
        "id": "LFGnWaB-27JU"
      },
      "source": [
        "<details>\n",
        "  <summary><font size=\"2\" color=\"darkgreen\"><b>Please click here if you want to experiment with any of the non-graded code.</b></font></summary>\n",
        "    <p><i><b>Important Note: Please only do this when you've already passed the assignment to avoid problems with the autograder.</b></i>\n",
        "    <ol>\n",
        "        <li> On the notebook’s menu, click “View” > “Cell Toolbar” > “Edit Metadata”</li>\n",
        "        <li> Hit the “Edit Metadata” button next to the code cell which you want to lock/unlock</li>\n",
        "        <li> Set the attribute value for “editable” to:\n",
        "            <ul>\n",
        "                <li> “true” if you want to unlock it </li>\n",
        "                <li> “false” if you want to lock it </li>\n",
        "            </ul>\n",
        "        </li>\n",
        "        <li> On the notebook’s menu, click “View” > “Cell Toolbar” > “None” </li>\n",
        "    </ol>\n",
        "    <p> Here's a short demo of how to do the steps above:\n",
        "        <br>\n",
        "        <img src=\"https://drive.google.com/uc?export=view&id=14Xy_Mb17CZVgzVAgq7NCjMVBvSae3xO1\" align=\"center\">\n",
        "</details>"
      ]
    }
  ],
  "metadata": {
    "kernelspec": {
      "display_name": "Python 3",
      "language": "python",
      "name": "python3"
    },
    "language_info": {
      "codemirror_mode": {
        "name": "ipython",
        "version": 3
      },
      "file_extension": ".py",
      "mimetype": "text/x-python",
      "name": "python",
      "nbconvert_exporter": "python",
      "pygments_lexer": "ipython3",
      "version": "3.8.8"
    },
    "colab": {
      "provenance": []
    }
  },
  "nbformat": 4,
  "nbformat_minor": 0
}